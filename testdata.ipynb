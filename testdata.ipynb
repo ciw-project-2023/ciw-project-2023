{
 "cells": [
  {
   "cell_type": "markdown",
   "source": [
    "## Searching for good testdata\n",
    "\n",
    "### Config"
   ],
   "metadata": {
    "collapsed": false
   }
  },
  {
   "cell_type": "code",
   "execution_count": null,
   "outputs": [],
   "source": [
    "min_molecules_in_mcs = 4"
   ],
   "metadata": {
    "collapsed": false
   }
  },
  {
   "cell_type": "markdown",
   "source": [
    "## Helper functions"
   ],
   "metadata": {
    "collapsed": false
   }
  },
  {
   "cell_type": "code",
   "execution_count": null,
   "outputs": [],
   "source": [
    "from rdkit.Chem import MolFromSmiles, MolFromInchi, Mol\n",
    "from typing import Generator, TypeVar\n",
    "from rdkit.Chem.rdFMCS import MCSResult,FindMCS\n",
    "from rdkit.Chem.Draw import MolToImage"
   ],
   "metadata": {
    "collapsed": false
   }
  },
  {
   "cell_type": "code",
   "execution_count": null,
   "outputs": [],
   "source": [
    "A = TypeVar(\"A\")\n",
    "def generate_sublists(input_list: list[A]) -> Generator[list[A], None, None]:\n",
    "    n = len(input_list)\n",
    "    for i in range(n):\n",
    "        for j in range(i + min_molecules_in_mcs+1, n + 1):\n",
    "            yield input_list[i:j]"
   ],
   "metadata": {
    "collapsed": false
   }
  },
  {
   "cell_type": "code",
   "execution_count": null,
   "outputs": [],
   "source": [
    "def print_mols(mols: dict[str, Mol]):\n",
    "    for name, mol in mols.items():\n",
    "        print(name)\n",
    "        display(MolToImage(mol))"
   ],
   "metadata": {
    "collapsed": false
   }
  },
  {
   "cell_type": "code",
   "execution_count": null,
   "outputs": [],
   "source": [
    "def get_name(mol: Mol) -> str:\n",
    "    return mol.GetProp(\"name\")\n",
    "\n",
    "def enumerate_mcs(mols: dict[str, Mol]) -> Generator[tuple[list[str], MCSResult], None, None]:\n",
    "    for key, mol in mols.items():\n",
    "        mol.SetProp(\"name\", key)\n",
    "\n",
    "    for sub in generate_sublists(list(mols.values())):\n",
    "        result = FindMCS(sub)\n",
    "\n",
    "        yield map(get_name, sub), result\n"
   ],
   "metadata": {
    "collapsed": false
   }
  },
  {
   "cell_type": "code",
   "execution_count": null,
   "outputs": [],
   "source": [
    "def print_mcs_matches(mols: dict[str, Mol]):\n",
    "    for names, result in enumerate_mcs(mols):\n",
    "        print(','.join(names))\n",
    "        display(result.queryMol)\n"
   ],
   "metadata": {
    "collapsed": false
   }
  },
  {
   "cell_type": "markdown",
   "source": [
    "## Datasets\n",
    "\n",
    "### Platalet antagonists"
   ],
   "metadata": {
    "collapsed": false
   }
  },
  {
   "cell_type": "markdown",
   "source": [
    "From [https://en.wikipedia.org/wiki/Platelet-activating_factor]:"
   ],
   "metadata": {
    "collapsed": false
   }
  },
  {
   "cell_type": "code",
   "execution_count": null,
   "outputs": [],
   "source": [
    "PARf_antagonists = dict[str, Mol]\n",
    "PARf_antagonists = {\n",
    "    \"afafant\": MolFromInchi(\"InChI=1S/C22H22ClN5O2S/c1-14-25-26-19-13-24-21(16-4-2-3-5-18(16)23)17-12-15(31-22(17)28(14)19)6-7-20(29)27-8-10-30-11-9-27/h2-5,12H,6-11,13H2,1H3\"),\n",
    "    \"israpafant\": MolFromInchi(\"InChI=1S/C28H29ClN4S/c1-17(2)15-21-11-9-20(10-12-21)13-14-22-16-24-26(23-7-5-6-8-25(23)29)30-18(3)27-32-31-19(4)33(27)28(24)34-22/h5-12,16-18H,13-15H2,1-4H3/t18-/m1/s1\"),\n",
    "    \"lexipafant\": MolFromInchi(\"InChI=1S/C23H30N4O4S/c1-6-31-23(28)22(13-16(2)3)26(5)32(29,30)19-9-7-18(8-10-19)15-27-17(4)25-20-14-24-12-11-21(20)27/h7-12,14,16,22H,6,13,15H2,1-5H3/t22-/m0/s1\"),\n",
    "    \"rupatadine\": MolFromInchi(\"InChI=1S/C26H26ClN3/c1-18-13-19(16-28-15-18)17-30-11-8-20(9-12-30)25-24-7-6-23(27)14-22(24)5-4-21-3-2-10-29-26(21)25/h2-3,6-7,10,13-16H,4-5,8-9,11-12,17H2,1H3\"),\n",
    "    \"modipafant\": MolFromInchi(\"InChI=1S/C34H29ClN6O3/c1-4-44-34(43)31-30(24-9-5-6-10-25(24)35)29(33(42)40-28-11-7-8-17-37-28)20(2)38-32(31)22-12-14-23(15-13-22)41-21(3)39-26-19-36-18-16-27(26)41/h5-19,30,38H,4H2,1-3H3,(H,37,40,42)/t30-/m1/s1\"),\n",
    "    \"etizolam\": MolFromInchi(\"InChI=1S/C17H15ClN4S/c1-3-11-8-13-16(12-6-4-5-7-14(12)18)19-9-15-21-20-10(2)22(15)17(13)23-11/h4-8H,3,9H2,1-2H3\"),\n",
    "    \"sm-12502\": MolFromInchi(\"InChI=1S/C10H12N2OS.ClH/c1-7-9(13)12(2)10(14-7)8-4-3-5-11-6-8;/h3-7,10H,1-2H3;1H/t7-,10+;/m0./s1\"),\n",
    "    \"cv-3988\": MolFromInchi(\"InChI=1S/C28H53N2O7PS/c1-3-4-5-6-7-8-9-10-11-12-13-14-15-16-17-18-19-29-28(31)35-24-27(34-2)25-37-38(32,33)36-22-20-30-21-23-39-26-30/h21,23,26-27H,3-20,22,24-25H2,1-2H3,(H-,29,31,32,33)\")\n",
    "}"
   ],
   "metadata": {
    "collapsed": false
   }
  },
  {
   "cell_type": "code",
   "execution_count": null,
   "outputs": [],
   "source": [
    "print_mols(PARf_antagonists)"
   ],
   "metadata": {
    "collapsed": false
   }
  },
  {
   "cell_type": "code",
   "execution_count": null,
   "outputs": [],
   "source": [
    "print_mcs_matches(PARf_antagonists)"
   ],
   "metadata": {
    "collapsed": false
   }
  }
 ],
 "metadata": {
  "kernelspec": {
   "display_name": "Python 3",
   "language": "python",
   "name": "python3"
  },
  "language_info": {
   "codemirror_mode": {
    "name": "ipython",
    "version": 2
   },
   "file_extension": ".py",
   "mimetype": "text/x-python",
   "name": "python",
   "nbconvert_exporter": "python",
   "pygments_lexer": "ipython2",
   "version": "2.7.6"
  }
 },
 "nbformat": 4,
 "nbformat_minor": 0
}
